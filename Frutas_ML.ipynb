{
  "cells": [
    {
      "cell_type": "markdown",
      "metadata": {
        "id": "view-in-github",
        "colab_type": "text"
      },
      "source": [
        "<a href=\"https://colab.research.google.com/github/urvog/fruits-ml/blob/main/Frutas_ML.ipynb\" target=\"_parent\"><img src=\"https://colab.research.google.com/assets/colab-badge.svg\" alt=\"Open In Colab\"/></a>"
      ]
    },
    {
      "cell_type": "markdown",
      "metadata": {
        "id": "ehjCkkOg6fmH"
      },
      "source": [
        "# Tema 3. EJEMPLO BASICO DE MACHINE LEARNING\n",
        "\n",
        "<img src=\"https://www.neuraldojo.org/media/fruits.jpg\"\n",
        "     alt=\"Markdown Monster icon\"\n",
        "     style=\"float: left; margin-right: 10px;\" width=\"600\"/>\n",
        "     \n",
        "En este cuadernos vamos trabajar con un dataset simple de frutas para construir un  clasificador básico de frutas con machine learning y utilizando la librería **Scikit-Learn.**\n",
        "\n",
        "Para llevar a cabo este trabajo vamos a seguir los pasos básicos de una Pipeline de Machine Learning.\n",
        "\n",
        "1. Importar el dataset\n",
        "2. Preparamos los datos\n",
        "3. Preparamos el modelo\n",
        "4. Evaluamos el modelo\n",
        "5. Probamos con nuevos datos"
      ]
    },
    {
      "cell_type": "markdown",
      "metadata": {
        "id": "dIOdebyf9qQZ"
      },
      "source": [
        "## 1.- Importación de las librerías y datos"
      ]
    },
    {
      "cell_type": "code",
      "execution_count": 16,
      "metadata": {
        "id": "G7pwJZu36LdR"
      },
      "outputs": [],
      "source": [
        "%matplotlib inline\n",
        "import numpy as np\n",
        "import matplotlib.pyplot as plt\n",
        "import seaborn as sns\n",
        "import pandas as pd\n",
        "from sklearn.model_selection import train_test_split\n",
        "\n",
        "fruits = pd.read_table('fruit_data_with_colors.txt')"
      ]
    },
    {
      "cell_type": "markdown",
      "metadata": {
        "id": "SPHvsLyA-LeR"
      },
      "source": [
        "## 2.- Preparación de los datos"
      ]
    },
    {
      "cell_type": "markdown",
      "metadata": {
        "id": "3kCf-xG4DlEl"
      },
      "source": [
        "### 2.1 Inspeccionamos los datos"
      ]
    },
    {
      "cell_type": "code",
      "execution_count": 17,
      "metadata": {
        "colab": {
          "base_uri": "https://localhost:8080/"
        },
        "id": "qJ0LwZ3YGC3P",
        "outputId": "6e4bebaf-55fe-4b11-ed47-0e1d1a2eff0e"
      },
      "outputs": [
        {
          "output_type": "execute_result",
          "data": {
            "text/plain": [
              "(59, 7)"
            ]
          },
          "metadata": {},
          "execution_count": 17
        }
      ],
      "source": [
        "fruits.shape"
      ]
    },
    {
      "cell_type": "code",
      "execution_count": 18,
      "metadata": {
        "colab": {
          "base_uri": "https://localhost:8080/",
          "height": 363
        },
        "id": "SzQFXQT3-EVk",
        "outputId": "d596a993-50ba-4eea-e892-c53a2cb478ae"
      },
      "outputs": [
        {
          "output_type": "execute_result",
          "data": {
            "text/html": [
              "\n",
              "  <div id=\"df-c203881a-ab94-4a2c-9180-95ed45f012d1\">\n",
              "    <div class=\"colab-df-container\">\n",
              "      <div>\n",
              "<style scoped>\n",
              "    .dataframe tbody tr th:only-of-type {\n",
              "        vertical-align: middle;\n",
              "    }\n",
              "\n",
              "    .dataframe tbody tr th {\n",
              "        vertical-align: top;\n",
              "    }\n",
              "\n",
              "    .dataframe thead th {\n",
              "        text-align: right;\n",
              "    }\n",
              "</style>\n",
              "<table border=\"1\" class=\"dataframe\">\n",
              "  <thead>\n",
              "    <tr style=\"text-align: right;\">\n",
              "      <th></th>\n",
              "      <th>fruit_label</th>\n",
              "      <th>fruit_name</th>\n",
              "      <th>fruit_subtype</th>\n",
              "      <th>mass</th>\n",
              "      <th>width</th>\n",
              "      <th>height</th>\n",
              "      <th>color_score</th>\n",
              "    </tr>\n",
              "  </thead>\n",
              "  <tbody>\n",
              "    <tr>\n",
              "      <th>0</th>\n",
              "      <td>1</td>\n",
              "      <td>apple</td>\n",
              "      <td>granny_smith</td>\n",
              "      <td>192</td>\n",
              "      <td>8.4</td>\n",
              "      <td>7.3</td>\n",
              "      <td>0.55</td>\n",
              "    </tr>\n",
              "    <tr>\n",
              "      <th>1</th>\n",
              "      <td>1</td>\n",
              "      <td>apple</td>\n",
              "      <td>granny_smith</td>\n",
              "      <td>180</td>\n",
              "      <td>8.0</td>\n",
              "      <td>6.8</td>\n",
              "      <td>0.59</td>\n",
              "    </tr>\n",
              "    <tr>\n",
              "      <th>2</th>\n",
              "      <td>1</td>\n",
              "      <td>apple</td>\n",
              "      <td>granny_smith</td>\n",
              "      <td>176</td>\n",
              "      <td>7.4</td>\n",
              "      <td>7.2</td>\n",
              "      <td>0.60</td>\n",
              "    </tr>\n",
              "    <tr>\n",
              "      <th>3</th>\n",
              "      <td>2</td>\n",
              "      <td>mandarin</td>\n",
              "      <td>mandarin</td>\n",
              "      <td>86</td>\n",
              "      <td>6.2</td>\n",
              "      <td>4.7</td>\n",
              "      <td>0.80</td>\n",
              "    </tr>\n",
              "    <tr>\n",
              "      <th>4</th>\n",
              "      <td>2</td>\n",
              "      <td>mandarin</td>\n",
              "      <td>mandarin</td>\n",
              "      <td>84</td>\n",
              "      <td>6.0</td>\n",
              "      <td>4.6</td>\n",
              "      <td>0.79</td>\n",
              "    </tr>\n",
              "    <tr>\n",
              "      <th>5</th>\n",
              "      <td>2</td>\n",
              "      <td>mandarin</td>\n",
              "      <td>mandarin</td>\n",
              "      <td>80</td>\n",
              "      <td>5.8</td>\n",
              "      <td>4.3</td>\n",
              "      <td>0.77</td>\n",
              "    </tr>\n",
              "    <tr>\n",
              "      <th>6</th>\n",
              "      <td>2</td>\n",
              "      <td>mandarin</td>\n",
              "      <td>mandarin</td>\n",
              "      <td>80</td>\n",
              "      <td>5.9</td>\n",
              "      <td>4.3</td>\n",
              "      <td>0.81</td>\n",
              "    </tr>\n",
              "    <tr>\n",
              "      <th>7</th>\n",
              "      <td>2</td>\n",
              "      <td>mandarin</td>\n",
              "      <td>mandarin</td>\n",
              "      <td>76</td>\n",
              "      <td>5.8</td>\n",
              "      <td>4.0</td>\n",
              "      <td>0.81</td>\n",
              "    </tr>\n",
              "    <tr>\n",
              "      <th>8</th>\n",
              "      <td>1</td>\n",
              "      <td>apple</td>\n",
              "      <td>braeburn</td>\n",
              "      <td>178</td>\n",
              "      <td>7.1</td>\n",
              "      <td>7.8</td>\n",
              "      <td>0.92</td>\n",
              "    </tr>\n",
              "    <tr>\n",
              "      <th>9</th>\n",
              "      <td>1</td>\n",
              "      <td>apple</td>\n",
              "      <td>braeburn</td>\n",
              "      <td>172</td>\n",
              "      <td>7.4</td>\n",
              "      <td>7.0</td>\n",
              "      <td>0.89</td>\n",
              "    </tr>\n",
              "  </tbody>\n",
              "</table>\n",
              "</div>\n",
              "      <button class=\"colab-df-convert\" onclick=\"convertToInteractive('df-c203881a-ab94-4a2c-9180-95ed45f012d1')\"\n",
              "              title=\"Convert this dataframe to an interactive table.\"\n",
              "              style=\"display:none;\">\n",
              "        \n",
              "  <svg xmlns=\"http://www.w3.org/2000/svg\" height=\"24px\"viewBox=\"0 0 24 24\"\n",
              "       width=\"24px\">\n",
              "    <path d=\"M0 0h24v24H0V0z\" fill=\"none\"/>\n",
              "    <path d=\"M18.56 5.44l.94 2.06.94-2.06 2.06-.94-2.06-.94-.94-2.06-.94 2.06-2.06.94zm-11 1L8.5 8.5l.94-2.06 2.06-.94-2.06-.94L8.5 2.5l-.94 2.06-2.06.94zm10 10l.94 2.06.94-2.06 2.06-.94-2.06-.94-.94-2.06-.94 2.06-2.06.94z\"/><path d=\"M17.41 7.96l-1.37-1.37c-.4-.4-.92-.59-1.43-.59-.52 0-1.04.2-1.43.59L10.3 9.45l-7.72 7.72c-.78.78-.78 2.05 0 2.83L4 21.41c.39.39.9.59 1.41.59.51 0 1.02-.2 1.41-.59l7.78-7.78 2.81-2.81c.8-.78.8-2.07 0-2.86zM5.41 20L4 18.59l7.72-7.72 1.47 1.35L5.41 20z\"/>\n",
              "  </svg>\n",
              "      </button>\n",
              "      \n",
              "  <style>\n",
              "    .colab-df-container {\n",
              "      display:flex;\n",
              "      flex-wrap:wrap;\n",
              "      gap: 12px;\n",
              "    }\n",
              "\n",
              "    .colab-df-convert {\n",
              "      background-color: #E8F0FE;\n",
              "      border: none;\n",
              "      border-radius: 50%;\n",
              "      cursor: pointer;\n",
              "      display: none;\n",
              "      fill: #1967D2;\n",
              "      height: 32px;\n",
              "      padding: 0 0 0 0;\n",
              "      width: 32px;\n",
              "    }\n",
              "\n",
              "    .colab-df-convert:hover {\n",
              "      background-color: #E2EBFA;\n",
              "      box-shadow: 0px 1px 2px rgba(60, 64, 67, 0.3), 0px 1px 3px 1px rgba(60, 64, 67, 0.15);\n",
              "      fill: #174EA6;\n",
              "    }\n",
              "\n",
              "    [theme=dark] .colab-df-convert {\n",
              "      background-color: #3B4455;\n",
              "      fill: #D2E3FC;\n",
              "    }\n",
              "\n",
              "    [theme=dark] .colab-df-convert:hover {\n",
              "      background-color: #434B5C;\n",
              "      box-shadow: 0px 1px 3px 1px rgba(0, 0, 0, 0.15);\n",
              "      filter: drop-shadow(0px 1px 2px rgba(0, 0, 0, 0.3));\n",
              "      fill: #FFFFFF;\n",
              "    }\n",
              "  </style>\n",
              "\n",
              "      <script>\n",
              "        const buttonEl =\n",
              "          document.querySelector('#df-c203881a-ab94-4a2c-9180-95ed45f012d1 button.colab-df-convert');\n",
              "        buttonEl.style.display =\n",
              "          google.colab.kernel.accessAllowed ? 'block' : 'none';\n",
              "\n",
              "        async function convertToInteractive(key) {\n",
              "          const element = document.querySelector('#df-c203881a-ab94-4a2c-9180-95ed45f012d1');\n",
              "          const dataTable =\n",
              "            await google.colab.kernel.invokeFunction('convertToInteractive',\n",
              "                                                     [key], {});\n",
              "          if (!dataTable) return;\n",
              "\n",
              "          const docLinkHtml = 'Like what you see? Visit the ' +\n",
              "            '<a target=\"_blank\" href=https://colab.research.google.com/notebooks/data_table.ipynb>data table notebook</a>'\n",
              "            + ' to learn more about interactive tables.';\n",
              "          element.innerHTML = '';\n",
              "          dataTable['output_type'] = 'display_data';\n",
              "          await google.colab.output.renderOutput(dataTable, element);\n",
              "          const docLink = document.createElement('div');\n",
              "          docLink.innerHTML = docLinkHtml;\n",
              "          element.appendChild(docLink);\n",
              "        }\n",
              "      </script>\n",
              "    </div>\n",
              "  </div>\n",
              "  "
            ],
            "text/plain": [
              "   fruit_label fruit_name fruit_subtype  mass  width  height  color_score\n",
              "0            1      apple  granny_smith   192    8.4     7.3         0.55\n",
              "1            1      apple  granny_smith   180    8.0     6.8         0.59\n",
              "2            1      apple  granny_smith   176    7.4     7.2         0.60\n",
              "3            2   mandarin      mandarin    86    6.2     4.7         0.80\n",
              "4            2   mandarin      mandarin    84    6.0     4.6         0.79\n",
              "5            2   mandarin      mandarin    80    5.8     4.3         0.77\n",
              "6            2   mandarin      mandarin    80    5.9     4.3         0.81\n",
              "7            2   mandarin      mandarin    76    5.8     4.0         0.81\n",
              "8            1      apple      braeburn   178    7.1     7.8         0.92\n",
              "9            1      apple      braeburn   172    7.4     7.0         0.89"
            ]
          },
          "metadata": {},
          "execution_count": 18
        }
      ],
      "source": [
        "fruits.head(10)"
      ]
    },
    {
      "cell_type": "code",
      "source": [
        "# create a mapping from fruit label value to fruit name to make results easier to interpret\n",
        "lookup_fruit_name = dict(zip(fruits.fruit_label.unique(), fruits.fruit_name.unique()))   \n",
        "lookup_fruit_name"
      ],
      "metadata": {
        "colab": {
          "base_uri": "https://localhost:8080/"
        },
        "id": "skbq3mdC3qoI",
        "outputId": "8874bc5d-4cce-417b-c78c-7280f6a7fd1f"
      },
      "execution_count": 19,
      "outputs": [
        {
          "output_type": "execute_result",
          "data": {
            "text/plain": [
              "{1: 'apple', 2: 'mandarin', 3: 'orange', 4: 'lemon'}"
            ]
          },
          "metadata": {},
          "execution_count": 19
        }
      ]
    },
    {
      "cell_type": "markdown",
      "metadata": {
        "id": "xbWK-xlID2l1"
      },
      "source": [
        "### 2.2 Manipulación de los datos"
      ]
    },
    {
      "cell_type": "code",
      "execution_count": 20,
      "metadata": {
        "colab": {
          "base_uri": "https://localhost:8080/"
        },
        "id": "KIuEpo4wFp2m",
        "outputId": "bb7cfe38-28fa-4489-fc1a-8c7bff9cae04"
      },
      "outputs": [
        {
          "output_type": "stream",
          "name": "stdout",
          "text": [
            "<class 'pandas.core.frame.DataFrame'>\n",
            "RangeIndex: 59 entries, 0 to 58\n",
            "Data columns (total 7 columns):\n",
            " #   Column         Non-Null Count  Dtype  \n",
            "---  ------         --------------  -----  \n",
            " 0   fruit_label    59 non-null     int64  \n",
            " 1   fruit_name     59 non-null     object \n",
            " 2   fruit_subtype  59 non-null     object \n",
            " 3   mass           59 non-null     int64  \n",
            " 4   width          59 non-null     float64\n",
            " 5   height         59 non-null     float64\n",
            " 6   color_score    59 non-null     float64\n",
            "dtypes: float64(3), int64(2), object(2)\n",
            "memory usage: 3.4+ KB\n"
          ]
        }
      ],
      "source": [
        "fruits.info()"
      ]
    },
    {
      "cell_type": "code",
      "execution_count": 21,
      "metadata": {
        "colab": {
          "base_uri": "https://localhost:8080/",
          "height": 300
        },
        "id": "2yJSOWUc-S-2",
        "outputId": "3e2635de-1f84-42df-97f5-e9de78a4e3be"
      },
      "outputs": [
        {
          "output_type": "execute_result",
          "data": {
            "text/html": [
              "\n",
              "  <div id=\"df-4ad4c08a-a9eb-438b-848d-23b24f49c20e\">\n",
              "    <div class=\"colab-df-container\">\n",
              "      <div>\n",
              "<style scoped>\n",
              "    .dataframe tbody tr th:only-of-type {\n",
              "        vertical-align: middle;\n",
              "    }\n",
              "\n",
              "    .dataframe tbody tr th {\n",
              "        vertical-align: top;\n",
              "    }\n",
              "\n",
              "    .dataframe thead th {\n",
              "        text-align: right;\n",
              "    }\n",
              "</style>\n",
              "<table border=\"1\" class=\"dataframe\">\n",
              "  <thead>\n",
              "    <tr style=\"text-align: right;\">\n",
              "      <th></th>\n",
              "      <th>fruit_label</th>\n",
              "      <th>mass</th>\n",
              "      <th>width</th>\n",
              "      <th>height</th>\n",
              "      <th>color_score</th>\n",
              "    </tr>\n",
              "  </thead>\n",
              "  <tbody>\n",
              "    <tr>\n",
              "      <th>count</th>\n",
              "      <td>59.000000</td>\n",
              "      <td>59.000000</td>\n",
              "      <td>59.000000</td>\n",
              "      <td>59.000000</td>\n",
              "      <td>59.000000</td>\n",
              "    </tr>\n",
              "    <tr>\n",
              "      <th>mean</th>\n",
              "      <td>2.542373</td>\n",
              "      <td>163.118644</td>\n",
              "      <td>7.105085</td>\n",
              "      <td>7.693220</td>\n",
              "      <td>0.762881</td>\n",
              "    </tr>\n",
              "    <tr>\n",
              "      <th>std</th>\n",
              "      <td>1.208048</td>\n",
              "      <td>55.018832</td>\n",
              "      <td>0.816938</td>\n",
              "      <td>1.361017</td>\n",
              "      <td>0.076857</td>\n",
              "    </tr>\n",
              "    <tr>\n",
              "      <th>min</th>\n",
              "      <td>1.000000</td>\n",
              "      <td>76.000000</td>\n",
              "      <td>5.800000</td>\n",
              "      <td>4.000000</td>\n",
              "      <td>0.550000</td>\n",
              "    </tr>\n",
              "    <tr>\n",
              "      <th>25%</th>\n",
              "      <td>1.000000</td>\n",
              "      <td>140.000000</td>\n",
              "      <td>6.600000</td>\n",
              "      <td>7.200000</td>\n",
              "      <td>0.720000</td>\n",
              "    </tr>\n",
              "    <tr>\n",
              "      <th>50%</th>\n",
              "      <td>3.000000</td>\n",
              "      <td>158.000000</td>\n",
              "      <td>7.200000</td>\n",
              "      <td>7.600000</td>\n",
              "      <td>0.750000</td>\n",
              "    </tr>\n",
              "    <tr>\n",
              "      <th>75%</th>\n",
              "      <td>4.000000</td>\n",
              "      <td>177.000000</td>\n",
              "      <td>7.500000</td>\n",
              "      <td>8.200000</td>\n",
              "      <td>0.810000</td>\n",
              "    </tr>\n",
              "    <tr>\n",
              "      <th>max</th>\n",
              "      <td>4.000000</td>\n",
              "      <td>362.000000</td>\n",
              "      <td>9.600000</td>\n",
              "      <td>10.500000</td>\n",
              "      <td>0.930000</td>\n",
              "    </tr>\n",
              "  </tbody>\n",
              "</table>\n",
              "</div>\n",
              "      <button class=\"colab-df-convert\" onclick=\"convertToInteractive('df-4ad4c08a-a9eb-438b-848d-23b24f49c20e')\"\n",
              "              title=\"Convert this dataframe to an interactive table.\"\n",
              "              style=\"display:none;\">\n",
              "        \n",
              "  <svg xmlns=\"http://www.w3.org/2000/svg\" height=\"24px\"viewBox=\"0 0 24 24\"\n",
              "       width=\"24px\">\n",
              "    <path d=\"M0 0h24v24H0V0z\" fill=\"none\"/>\n",
              "    <path d=\"M18.56 5.44l.94 2.06.94-2.06 2.06-.94-2.06-.94-.94-2.06-.94 2.06-2.06.94zm-11 1L8.5 8.5l.94-2.06 2.06-.94-2.06-.94L8.5 2.5l-.94 2.06-2.06.94zm10 10l.94 2.06.94-2.06 2.06-.94-2.06-.94-.94-2.06-.94 2.06-2.06.94z\"/><path d=\"M17.41 7.96l-1.37-1.37c-.4-.4-.92-.59-1.43-.59-.52 0-1.04.2-1.43.59L10.3 9.45l-7.72 7.72c-.78.78-.78 2.05 0 2.83L4 21.41c.39.39.9.59 1.41.59.51 0 1.02-.2 1.41-.59l7.78-7.78 2.81-2.81c.8-.78.8-2.07 0-2.86zM5.41 20L4 18.59l7.72-7.72 1.47 1.35L5.41 20z\"/>\n",
              "  </svg>\n",
              "      </button>\n",
              "      \n",
              "  <style>\n",
              "    .colab-df-container {\n",
              "      display:flex;\n",
              "      flex-wrap:wrap;\n",
              "      gap: 12px;\n",
              "    }\n",
              "\n",
              "    .colab-df-convert {\n",
              "      background-color: #E8F0FE;\n",
              "      border: none;\n",
              "      border-radius: 50%;\n",
              "      cursor: pointer;\n",
              "      display: none;\n",
              "      fill: #1967D2;\n",
              "      height: 32px;\n",
              "      padding: 0 0 0 0;\n",
              "      width: 32px;\n",
              "    }\n",
              "\n",
              "    .colab-df-convert:hover {\n",
              "      background-color: #E2EBFA;\n",
              "      box-shadow: 0px 1px 2px rgba(60, 64, 67, 0.3), 0px 1px 3px 1px rgba(60, 64, 67, 0.15);\n",
              "      fill: #174EA6;\n",
              "    }\n",
              "\n",
              "    [theme=dark] .colab-df-convert {\n",
              "      background-color: #3B4455;\n",
              "      fill: #D2E3FC;\n",
              "    }\n",
              "\n",
              "    [theme=dark] .colab-df-convert:hover {\n",
              "      background-color: #434B5C;\n",
              "      box-shadow: 0px 1px 3px 1px rgba(0, 0, 0, 0.15);\n",
              "      filter: drop-shadow(0px 1px 2px rgba(0, 0, 0, 0.3));\n",
              "      fill: #FFFFFF;\n",
              "    }\n",
              "  </style>\n",
              "\n",
              "      <script>\n",
              "        const buttonEl =\n",
              "          document.querySelector('#df-4ad4c08a-a9eb-438b-848d-23b24f49c20e button.colab-df-convert');\n",
              "        buttonEl.style.display =\n",
              "          google.colab.kernel.accessAllowed ? 'block' : 'none';\n",
              "\n",
              "        async function convertToInteractive(key) {\n",
              "          const element = document.querySelector('#df-4ad4c08a-a9eb-438b-848d-23b24f49c20e');\n",
              "          const dataTable =\n",
              "            await google.colab.kernel.invokeFunction('convertToInteractive',\n",
              "                                                     [key], {});\n",
              "          if (!dataTable) return;\n",
              "\n",
              "          const docLinkHtml = 'Like what you see? Visit the ' +\n",
              "            '<a target=\"_blank\" href=https://colab.research.google.com/notebooks/data_table.ipynb>data table notebook</a>'\n",
              "            + ' to learn more about interactive tables.';\n",
              "          element.innerHTML = '';\n",
              "          dataTable['output_type'] = 'display_data';\n",
              "          await google.colab.output.renderOutput(dataTable, element);\n",
              "          const docLink = document.createElement('div');\n",
              "          docLink.innerHTML = docLinkHtml;\n",
              "          element.appendChild(docLink);\n",
              "        }\n",
              "      </script>\n",
              "    </div>\n",
              "  </div>\n",
              "  "
            ],
            "text/plain": [
              "       fruit_label        mass      width     height  color_score\n",
              "count    59.000000   59.000000  59.000000  59.000000    59.000000\n",
              "mean      2.542373  163.118644   7.105085   7.693220     0.762881\n",
              "std       1.208048   55.018832   0.816938   1.361017     0.076857\n",
              "min       1.000000   76.000000   5.800000   4.000000     0.550000\n",
              "25%       1.000000  140.000000   6.600000   7.200000     0.720000\n",
              "50%       3.000000  158.000000   7.200000   7.600000     0.750000\n",
              "75%       4.000000  177.000000   7.500000   8.200000     0.810000\n",
              "max       4.000000  362.000000   9.600000  10.500000     0.930000"
            ]
          },
          "metadata": {},
          "execution_count": 21
        }
      ],
      "source": [
        "fruits.describe()"
      ]
    },
    {
      "cell_type": "code",
      "execution_count": 22,
      "metadata": {
        "id": "mg5KD3QJH3BQ"
      },
      "outputs": [],
      "source": [
        "#eliminamos las columnas no utiles para las siguientes etapas.\n",
        "fruits_ = fruits.drop(['fruit_name','fruit_subtype'], axis = 1)"
      ]
    },
    {
      "cell_type": "code",
      "execution_count": 23,
      "metadata": {
        "colab": {
          "base_uri": "https://localhost:8080/",
          "height": 744
        },
        "id": "bbE3aS_yI0NQ",
        "outputId": "1bdba360-8427-4cbd-faaf-3dcc50fcfee9"
      },
      "outputs": [
        {
          "output_type": "execute_result",
          "data": {
            "text/plain": [
              "<seaborn.axisgrid.PairGrid at 0x7f2d68a55050>"
            ]
          },
          "metadata": {},
          "execution_count": 23
        },
        {
          "output_type": "display_data",
          "data": {
            "image/png": "[encoded data removed]",
            "text/plain": [
              "<Figure size 778.125x720 with 20 Axes>"
            ]
          },
          "metadata": {
            "needs_background": "light"
          }
        }
      ],
      "source": [
        "sns.pairplot(data=fruits_, hue='fruit_label')"
      ]
    },
    {
      "cell_type": "markdown",
      "metadata": {
        "id": "kkojvwRfGjJg"
      },
      "source": [
        "### 2.3 Verificamos si existen datos faltantes"
      ]
    },
    {
      "cell_type": "code",
      "execution_count": 24,
      "metadata": {
        "colab": {
          "base_uri": "https://localhost:8080/"
        },
        "id": "gHQFKbMjGOxm",
        "outputId": "099e7093-2d24-4834-9101-ddefcf3521d4"
      },
      "outputs": [
        {
          "output_type": "execute_result",
          "data": {
            "text/plain": [
              "fruit_label    0\n",
              "mass           0\n",
              "width          0\n",
              "height         0\n",
              "color_score    0\n",
              "dtype: int64"
            ]
          },
          "metadata": {},
          "execution_count": 24
        }
      ],
      "source": [
        "fruits_.isnull().sum()"
      ]
    },
    {
      "cell_type": "markdown",
      "source": [
        "### 2.4 Dividimos los datos en Entrenamiento y Test (Train-Split)\n"
      ],
      "metadata": {
        "id": "pqCc7uk31Zzv"
      }
    },
    {
      "cell_type": "code",
      "source": [
        "# Para este ejemplo, vamos a usar la masa, ancho y altura para cada fruta\n",
        "X = fruits_[['mass', 'width', 'height']]\n",
        "y = fruits_['fruit_label']\n",
        "\n",
        "# Utilizaremos la division por defecto\n",
        "X_train, X_test, y_train, y_test = train_test_split(X, y, random_state=0)"
      ],
      "metadata": {
        "id": "V7ayBnuS1jll"
      },
      "execution_count": 36,
      "outputs": []
    },
    {
      "cell_type": "markdown",
      "metadata": {
        "id": "aQMBJFnGDn0E"
      },
      "source": [
        "## 3.- Preparamos el modelo"
      ]
    },
    {
      "cell_type": "code",
      "execution_count": 37,
      "metadata": {
        "id": "drK8ow9YDpdQ"
      },
      "outputs": [],
      "source": [
        "from sklearn.neighbors import KNeighborsClassifier\n",
        "\n",
        "knn = KNeighborsClassifier(n_neighbors = 5)"
      ]
    },
    {
      "cell_type": "markdown",
      "source": [
        "### 3.1 Entrenamos el clasificador utilizando los datos de entranamiento"
      ],
      "metadata": {
        "id": "V95Sk3nW2PXk"
      }
    },
    {
      "cell_type": "code",
      "source": [
        "knn.fit(X_train, y_train)"
      ],
      "metadata": {
        "colab": {
          "base_uri": "https://localhost:8080/"
        },
        "id": "ll18thTs2YPS",
        "outputId": "d79e3112-623b-488b-b30a-5537aed4b7bf"
      },
      "execution_count": 38,
      "outputs": [
        {
          "output_type": "execute_result",
          "data": {
            "text/plain": [
              "KNeighborsClassifier()"
            ]
          },
          "metadata": {},
          "execution_count": 38
        }
      ]
    },
    {
      "cell_type": "markdown",
      "metadata": {
        "id": "QJwcE6qoDsSN"
      },
      "source": [
        "## 4.- Evaluamos el Modelo"
      ]
    },
    {
      "cell_type": "code",
      "source": [
        "knn.score(X_test, y_test)"
      ],
      "metadata": {
        "colab": {
          "base_uri": "https://localhost:8080/"
        },
        "id": "UPu9Beh12slf",
        "outputId": "1001a1c1-0914-4341-a57f-6bd669d74284"
      },
      "execution_count": 76,
      "outputs": [
        {
          "output_type": "execute_result",
          "data": {
            "text/plain": [
              "0.5333333333333333"
            ]
          },
          "metadata": {},
          "execution_count": 76
        }
      ]
    },
    {
      "cell_type": "markdown",
      "metadata": {
        "id": "lFLdkPsPDwNt"
      },
      "source": [
        "## 5.- Probamos el modelo con nuevos datos"
      ]
    },
    {
      "cell_type": "code",
      "execution_count": 69,
      "metadata": {
        "id": "pn5NLyp6DvZP",
        "colab": {
          "base_uri": "https://localhost:8080/",
          "height": 143
        },
        "outputId": "bdf7dfc3-a903-4ba1-f913-049b30ecd361"
      },
      "outputs": [
        {
          "output_type": "execute_result",
          "data": {
            "text/html": [
              "\n",
              "  <div id=\"df-3c61c38e-26c9-4bc3-9e39-0768cd6cb264\">\n",
              "    <div class=\"colab-df-container\">\n",
              "      <div>\n",
              "<style scoped>\n",
              "    .dataframe tbody tr th:only-of-type {\n",
              "        vertical-align: middle;\n",
              "    }\n",
              "\n",
              "    .dataframe tbody tr th {\n",
              "        vertical-align: top;\n",
              "    }\n",
              "\n",
              "    .dataframe thead th {\n",
              "        text-align: right;\n",
              "    }\n",
              "</style>\n",
              "<table border=\"1\" class=\"dataframe\">\n",
              "  <thead>\n",
              "    <tr style=\"text-align: right;\">\n",
              "      <th></th>\n",
              "      <th>mass</th>\n",
              "      <th>width</th>\n",
              "      <th>height</th>\n",
              "    </tr>\n",
              "  </thead>\n",
              "  <tbody>\n",
              "    <tr>\n",
              "      <th>0</th>\n",
              "      <td>9</td>\n",
              "      <td>4.3</td>\n",
              "      <td>5.5</td>\n",
              "    </tr>\n",
              "    <tr>\n",
              "      <th>1</th>\n",
              "      <td>180</td>\n",
              "      <td>5.5</td>\n",
              "      <td>4.5</td>\n",
              "    </tr>\n",
              "    <tr>\n",
              "      <th>2</th>\n",
              "      <td>79</td>\n",
              "      <td>6.7</td>\n",
              "      <td>2.6</td>\n",
              "    </tr>\n",
              "  </tbody>\n",
              "</table>\n",
              "</div>\n",
              "      <button class=\"colab-df-convert\" onclick=\"convertToInteractive('df-3c61c38e-26c9-4bc3-9e39-0768cd6cb264')\"\n",
              "              title=\"Convert this dataframe to an interactive table.\"\n",
              "              style=\"display:none;\">\n",
              "        \n",
              "  <svg xmlns=\"http://www.w3.org/2000/svg\" height=\"24px\"viewBox=\"0 0 24 24\"\n",
              "       width=\"24px\">\n",
              "    <path d=\"M0 0h24v24H0V0z\" fill=\"none\"/>\n",
              "    <path d=\"M18.56 5.44l.94 2.06.94-2.06 2.06-.94-2.06-.94-.94-2.06-.94 2.06-2.06.94zm-11 1L8.5 8.5l.94-2.06 2.06-.94-2.06-.94L8.5 2.5l-.94 2.06-2.06.94zm10 10l.94 2.06.94-2.06 2.06-.94-2.06-.94-.94-2.06-.94 2.06-2.06.94z\"/><path d=\"M17.41 7.96l-1.37-1.37c-.4-.4-.92-.59-1.43-.59-.52 0-1.04.2-1.43.59L10.3 9.45l-7.72 7.72c-.78.78-.78 2.05 0 2.83L4 21.41c.39.39.9.59 1.41.59.51 0 1.02-.2 1.41-.59l7.78-7.78 2.81-2.81c.8-.78.8-2.07 0-2.86zM5.41 20L4 18.59l7.72-7.72 1.47 1.35L5.41 20z\"/>\n",
              "  </svg>\n",
              "      </button>\n",
              "      \n",
              "  <style>\n",
              "    .colab-df-container {\n",
              "      display:flex;\n",
              "      flex-wrap:wrap;\n",
              "      gap: 12px;\n",
              "    }\n",
              "\n",
              "    .colab-df-convert {\n",
              "      background-color: #E8F0FE;\n",
              "      border: none;\n",
              "      border-radius: 50%;\n",
              "      cursor: pointer;\n",
              "      display: none;\n",
              "      fill: #1967D2;\n",
              "      height: 32px;\n",
              "      padding: 0 0 0 0;\n",
              "      width: 32px;\n",
              "    }\n",
              "\n",
              "    .colab-df-convert:hover {\n",
              "      background-color: #E2EBFA;\n",
              "      box-shadow: 0px 1px 2px rgba(60, 64, 67, 0.3), 0px 1px 3px 1px rgba(60, 64, 67, 0.15);\n",
              "      fill: #174EA6;\n",
              "    }\n",
              "\n",
              "    [theme=dark] .colab-df-convert {\n",
              "      background-color: #3B4455;\n",
              "      fill: #D2E3FC;\n",
              "    }\n",
              "\n",
              "    [theme=dark] .colab-df-convert:hover {\n",
              "      background-color: #434B5C;\n",
              "      box-shadow: 0px 1px 3px 1px rgba(0, 0, 0, 0.15);\n",
              "      filter: drop-shadow(0px 1px 2px rgba(0, 0, 0, 0.3));\n",
              "      fill: #FFFFFF;\n",
              "    }\n",
              "  </style>\n",
              "\n",
              "      <script>\n",
              "        const buttonEl =\n",
              "          document.querySelector('#df-3c61c38e-26c9-4bc3-9e39-0768cd6cb264 button.colab-df-convert');\n",
              "        buttonEl.style.display =\n",
              "          google.colab.kernel.accessAllowed ? 'block' : 'none';\n",
              "\n",
              "        async function convertToInteractive(key) {\n",
              "          const element = document.querySelector('#df-3c61c38e-26c9-4bc3-9e39-0768cd6cb264');\n",
              "          const dataTable =\n",
              "            await google.colab.kernel.invokeFunction('convertToInteractive',\n",
              "                                                     [key], {});\n",
              "          if (!dataTable) return;\n",
              "\n",
              "          const docLinkHtml = 'Like what you see? Visit the ' +\n",
              "            '<a target=\"_blank\" href=https://colab.research.google.com/notebooks/data_table.ipynb>data table notebook</a>'\n",
              "            + ' to learn more about interactive tables.';\n",
              "          element.innerHTML = '';\n",
              "          dataTable['output_type'] = 'display_data';\n",
              "          await google.colab.output.renderOutput(dataTable, element);\n",
              "          const docLink = document.createElement('div');\n",
              "          docLink.innerHTML = docLinkHtml;\n",
              "          element.appendChild(docLink);\n",
              "        }\n",
              "      </script>\n",
              "    </div>\n",
              "  </div>\n",
              "  "
            ],
            "text/plain": [
              "   mass  width  height\n",
              "0     9    4.3     5.5\n",
              "1   180    5.5     4.5\n",
              "2    79    6.7     2.6"
            ]
          },
          "metadata": {},
          "execution_count": 69
        }
      ],
      "source": [
        "# first example: a small fruit with mass 20g, width 4.3 cm, height 5.5 cm\n",
        "\n",
        "new_data = {'mass': [9,180,79],\n",
        "            'width': [4.3,5.5,6.7],\n",
        "            'height': [5.5,4.5,2.6]}\n",
        "\n",
        "df_new = pd.DataFrame(new_data)\n",
        "df_new"
      ]
    },
    {
      "cell_type": "code",
      "source": [
        "fruit_prediction = knn.predict(df_new)"
      ],
      "metadata": {
        "id": "SRQu6zq3260g"
      },
      "execution_count": 70,
      "outputs": []
    },
    {
      "cell_type": "code",
      "source": [
        "lookup_fruit_name[fruit_prediction[0]]"
      ],
      "metadata": {
        "colab": {
          "base_uri": "https://localhost:8080/",
          "height": 35
        },
        "id": "3lHIAVLM551v",
        "outputId": "a72cb4cb-7a46-490e-c36e-fe4bc1546c8f"
      },
      "execution_count": 71,
      "outputs": [
        {
          "output_type": "execute_result",
          "data": {
            "application/vnd.google.colaboratory.intrinsic+json": {
              "type": "string"
            },
            "text/plain": [
              "'mandarin'"
            ]
          },
          "metadata": {},
          "execution_count": 71
        }
      ]
    },
    {
      "cell_type": "code",
      "source": [
        "lookup_fruit_name[fruit_prediction[1]]"
      ],
      "metadata": {
        "colab": {
          "base_uri": "https://localhost:8080/",
          "height": 35
        },
        "id": "NnYleCi16N3C",
        "outputId": "8bb047d3-f907-4fd2-870c-a54bae73094c"
      },
      "execution_count": 72,
      "outputs": [
        {
          "output_type": "execute_result",
          "data": {
            "application/vnd.google.colaboratory.intrinsic+json": {
              "type": "string"
            },
            "text/plain": [
              "'apple'"
            ]
          },
          "metadata": {},
          "execution_count": 72
        }
      ]
    },
    {
      "cell_type": "code",
      "source": [
        "lookup_fruit_name[fruit_prediction[2]]"
      ],
      "metadata": {
        "colab": {
          "base_uri": "https://localhost:8080/",
          "height": 35
        },
        "id": "5ANVQLv_6WeI",
        "outputId": "6b584bf3-e779-4866-80b6-1b3c68cbf8ef"
      },
      "execution_count": 75,
      "outputs": [
        {
          "output_type": "execute_result",
          "data": {
            "application/vnd.google.colaboratory.intrinsic+json": {
              "type": "string"
            },
            "text/plain": [
              "'mandarin'"
            ]
          },
          "metadata": {},
          "execution_count": 75
        }
      ]
    }
  ],
  "metadata": {
    "colab": {
      "collapsed_sections": [],
      "name": "Frutas_ML.ipynb",
      "toc_visible": true,
      "provenance": [],
      "authorship_tag": "ABX9TyOI8txRqo2+eiEzwUHQ9k+/",
      "include_colab_link": true
    },
    "kernelspec": {
      "display_name": "Python 3",
      "name": "python3"
    },
    "language_info": {
      "name": "python"
    }
  },
  "nbformat": 4,
  "nbformat_minor": 0
}